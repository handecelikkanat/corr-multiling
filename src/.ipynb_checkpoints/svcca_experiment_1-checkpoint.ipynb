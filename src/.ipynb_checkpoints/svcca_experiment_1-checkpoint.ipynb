{
 "cells": [
  {
   "cell_type": "code",
   "execution_count": 3,
   "metadata": {},
   "outputs": [],
   "source": [
    "import os, sys\n",
    "from matplotlib import pyplot as plt\n",
    "%matplotlib inline\n",
    "import numpy as np\n",
    "import pickle\n",
    "import pandas\n",
    "import gzip\n",
    "import h5py\n",
    "\n",
    "sys.path.append(\"../../svcca\")\n",
    "import cca_core"
   ]
  },
  {
   "cell_type": "code",
   "execution_count": 4,
   "metadata": {},
   "outputs": [],
   "source": [
    "def _plot_helper(arr, xlabel, ylabel):\n",
    "    plt.plot(arr, lw=2.0)\n",
    "    plt.xlabel(xlabel)\n",
    "    plt.ylabel(ylabel)\n",
    "    plt.grid()"
   ]
  },
  {
   "cell_type": "code",
   "execution_count": 31,
   "metadata": {},
   "outputs": [],
   "source": [
    "def normalize(a):\n",
    "    row_sums = a.sum(axis=1)\n",
    "    return a / row_sums[:, np.newaxis]\n",
    "     "
   ]
  },
  {
   "cell_type": "code",
   "execution_count": 35,
   "metadata": {},
   "outputs": [
    {
     "name": "stdout",
     "output_type": "stream",
     "text": [
      "(512, 787)\n",
      "(512, 787)\n"
     ]
    },
    {
     "name": "stderr",
     "output_type": "stream",
     "text": [
      "/anaconda3/envs/fotran/lib/python3.7/site-packages/ipykernel/__main__.py:4: H5pyDeprecationWarning: dataset.value has been deprecated. Use dataset[()] instead.\n",
      "/anaconda3/envs/fotran/lib/python3.7/site-packages/ipykernel/__main__.py:5: H5pyDeprecationWarning: dataset.value has been deprecated. Use dataset[()] instead.\n",
      "/anaconda3/envs/fotran/lib/python3.7/site-packages/ipykernel/__main__.py:10: H5pyDeprecationWarning: dataset.value has been deprecated. Use dataset[()] instead.\n",
      "/anaconda3/envs/fotran/lib/python3.7/site-packages/ipykernel/__main__.py:11: H5pyDeprecationWarning: dataset.value has been deprecated. Use dataset[()] instead.\n"
     ]
    }
   ],
   "source": [
    "run_1 = h5py.File('../data/1-comb-fi_en_ewt-ud-train_run-1.repr.word.hdf5', 'r')\n",
    "run_2 = h5py.File('../data/1-comb-fi_en_ewt-ud-train_run-2.repr.word.hdf5', 'r')\n",
    "\n",
    "A = run_1.get('0').value.transpose()\n",
    "B = run_2.get('0').value.transpose()\n",
    "\n",
    "for i, key in enumerate(run_1.keys()):\n",
    "    if i == 0: \n",
    "        continue\n",
    "    A = np.append(A, run_1.get(key).value.transpose(), axis=1)\n",
    "    B = np.append(B, run_2.get(key).value.transpose(), axis=1)\n",
    "    if i > 50: \n",
    "        break\n",
    "    \n",
    "A = normalize(A)    \n",
    "B = normalize(B)\n",
    "\n",
    "print(A.shape)\n",
    "print(B.shape)"
   ]
  },
  {
   "cell_type": "code",
   "execution_count": 36,
   "metadata": {},
   "outputs": [
    {
     "name": "stdout",
     "output_type": "stream",
     "text": [
      "adding eps to diagonal and taking inverse\n",
      "taking square root\n",
      "dot products...\n",
      "trying to take final svd\n",
      "computed everything!\n"
     ]
    }
   ],
   "source": [
    "# computing CCA simliarty between X_fake, Y_fake\n",
    "# We expect similarity should be very low, because the fake activations are not correlated\n",
    "results = cca_core.get_cca_similarity(A, B, verbose=True)"
   ]
  },
  {
   "cell_type": "code",
   "execution_count": 37,
   "metadata": {},
   "outputs": [
    {
     "name": "stdout",
     "output_type": "stream",
     "text": [
      "Returned Information:\n",
      "dict_keys(['coef_x', 'invsqrt_xx', 'full_coef_x', 'full_invsqrt_xx', 'coef_y', 'invsqrt_yy', 'full_coef_y', 'full_invsqrt_yy', 'neuron_means1', 'neuron_means2', 'cca_coef1', 'cca_coef2', 'x_idxs', 'y_idxs', 'mean', 'sum'])\n"
     ]
    }
   ],
   "source": [
    "print(\"Returned Information:\")\n",
    "print(results.keys())"
   ]
  },
  {
   "cell_type": "code",
   "execution_count": 38,
   "metadata": {},
   "outputs": [
    {
     "data": {
      "image/png": "[encoded data removed]",
      "text/plain": [
       "<Figure size 432x288 with 1 Axes>"
      ]
     },
     "metadata": {
      "needs_background": "light"
     },
     "output_type": "display_data"
    }
   ],
   "source": [
    "# correlation coefficients\n",
    "_plot_helper(results[\"cca_coef1\"], \"CCA coef idx\", \"CCA coef value\")"
   ]
  },
  {
   "cell_type": "code",
   "execution_count": null,
   "metadata": {},
   "outputs": [],
   "source": []
  }
 ],
 "metadata": {
  "kernelspec": {
   "display_name": "Python [conda env:fotran]",
   "language": "python",
   "name": "conda-env-fotran-py"
  },
  "language_info": {
   "codemirror_mode": {
    "name": "ipython",
    "version": 3
   },
   "file_extension": ".py",
   "mimetype": "text/x-python",
   "name": "python",
   "nbconvert_exporter": "python",
   "pygments_lexer": "ipython3",
   "version": "3.7.1"
  }
 },
 "nbformat": 4,
 "nbformat_minor": 2
}
