{
 "cells": [
  {
   "cell_type": "code",
   "execution_count": 2,
   "metadata": {},
   "outputs": [],
   "source": [
    "import os, sys\n",
    "from matplotlib import pyplot as plt\n",
    "%matplotlib inline\n",
    "import numpy as np\n",
    "import pickle\n",
    "import pandas\n",
    "import gzip\n",
    "\n",
    "sys.path.append(\"../../svcca\")\n",
    "import cca_core"
   ]
  },
  {
   "cell_type": "code",
   "execution_count": 3,
   "metadata": {},
   "outputs": [],
   "source": [
    "def _plot_helper(arr, xlabel, ylabel):\n",
    "    plt.plot(arr, lw=2.0)\n",
    "    plt.xlabel(xlabel)\n",
    "    plt.ylabel(ylabel)\n",
    "    plt.grid()"
   ]
  },
  {
   "cell_type": "code",
   "execution_count": 4,
   "metadata": {},
   "outputs": [
    {
     "name": "stdout",
     "output_type": "stream",
     "text": [
      "adding eps to diagonal and taking inverse\n",
      "taking square root\n",
      "dot products...\n",
      "trying to take final svd\n",
      "computed everything!\n"
     ]
    }
   ],
   "source": [
    "# Toy Example of CCA in action\n",
    "\n",
    "# assume X_fake has 100 neurons and we have their activations on 1000 datapoints\n",
    "A_fake = np.random.randn(100, 2000)\n",
    "# Y_fake has 50 neurons with activations on the same 1000 datapoints\n",
    "# Note X and Y do *not* have to have the same number of neurons\n",
    "B_fake = np.random.randn(50, 2000)\n",
    "\n",
    "# computing CCA simliarty between X_fake, Y_fake\n",
    "# We expect similarity should be very low, because the fake activations are not correlated\n",
    "results = cca_core.get_cca_similarity(A_fake, B_fake, verbose=True)"
   ]
  },
  {
   "cell_type": "code",
   "execution_count": 5,
   "metadata": {},
   "outputs": [
    {
     "name": "stdout",
     "output_type": "stream",
     "text": [
      "Returned Information:\n",
      "dict_keys(['coef_x', 'invsqrt_xx', 'full_coef_x', 'full_invsqrt_xx', 'coef_y', 'invsqrt_yy', 'full_coef_y', 'full_invsqrt_yy', 'neuron_means1', 'neuron_means2', 'cca_coef1', 'cca_coef2', 'x_idxs', 'y_idxs', 'mean', 'sum'])\n"
     ]
    }
   ],
   "source": [
    "print(\"Returned Information:\")\n",
    "print(results.keys())"
   ]
  },
  {
   "cell_type": "code",
   "execution_count": 6,
   "metadata": {},
   "outputs": [
    {
     "data": {
      "image/png": "[encoded data removed]",
      "text/plain": [
       "<Figure size 432x288 with 1 Axes>"
      ]
     },
     "metadata": {
      "needs_background": "light"
     },
     "output_type": "display_data"
    }
   ],
   "source": [
    "# correlation coefficients\n",
    "_plot_helper(results[\"cca_coef1\"], \"CCA coef idx\", \"CCA coef value\")"
   ]
  },
  {
   "cell_type": "code",
   "execution_count": 7,
   "metadata": {},
   "outputs": [
    {
     "name": "stdout",
     "output_type": "stream",
     "text": [
      "Single number for summarizing similarity\n",
      "0.2106\n"
     ]
    }
   ],
   "source": [
    "print(\"Single number for summarizing similarity\")\n",
    "print('{:.4f}'.format(np.mean(results[\"cca_coef1\"])))"
   ]
  },
  {
   "cell_type": "code",
   "execution_count": 8,
   "metadata": {},
   "outputs": [
    {
     "name": "stdout",
     "output_type": "stream",
     "text": [
      "adding eps to diagonal and taking inverse\n",
      "taking square root\n",
      "dot products...\n",
      "trying to take final svd\n",
      "computed everything!\n"
     ]
    }
   ],
   "source": [
    "At_fake = np.dot(np.random.randn(100, 100), A_fake)\n",
    "\n",
    "results_t = cca_core.get_cca_similarity(A_fake, At_fake)"
   ]
  },
  {
   "cell_type": "code",
   "execution_count": 9,
   "metadata": {},
   "outputs": [
    {
     "name": "stdout",
     "output_type": "stream",
     "text": [
      "Single number for summarizing similarity\n",
      "1.0000\n"
     ]
    },
    {
     "data": {
      "image/png": "[encoded data removed]",
      "text/plain": [
       "<Figure size 432x288 with 1 Axes>"
      ]
     },
     "metadata": {
      "needs_background": "light"
     },
     "output_type": "display_data"
    }
   ],
   "source": [
    "plt.plot(results_t[\"cca_coef1\"])\n",
    "plt.ylim((0,1.1))\n",
    "print(\"Single number for summarizing similarity\")\n",
    "print('{:.4f}'.format(np.mean(results_t[\"cca_coef1\"])))"
   ]
  },
  {
   "cell_type": "code",
   "execution_count": null,
   "metadata": {},
   "outputs": [],
   "source": []
  }
 ],
 "metadata": {
  "kernelspec": {
   "display_name": "Python [conda env:fotran]",
   "language": "python",
   "name": "conda-env-fotran-py"
  },
  "language_info": {
   "codemirror_mode": {
    "name": "ipython",
    "version": 3
   },
   "file_extension": ".py",
   "mimetype": "text/x-python",
   "name": "python",
   "nbconvert_exporter": "python",
   "pygments_lexer": "ipython3",
   "version": "3.7.1"
  }
 },
 "nbformat": 4,
 "nbformat_minor": 2
}
